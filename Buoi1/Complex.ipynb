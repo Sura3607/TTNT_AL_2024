{
 "cells": [
  {
   "cell_type": "markdown",
   "metadata": {},
   "source": [
    "Số phức_vector"
   ]
  },
  {
   "cell_type": "code",
   "execution_count": 9,
   "metadata": {},
   "outputs": [],
   "source": [
    "import math\n",
    "class Complex(object):\n",
    "    #Thuộc tính\n",
    "    __a__ = 0\n",
    "    __b__ = 0\n",
    "    def getX(self): return self.__a__\n",
    "    def getY(self): return self.__b__\n",
    "    def setX(self, a): self.__a__ = a\n",
    "    def setY(self, b): self.__b__ = b\n",
    "\n",
    "    #Phương thức\n",
    "    def __init__(self, a, b):\n",
    "        self.__a__ = a\n",
    "        self.__b__ = b\n",
    "    def __str__(self):\n",
    "        if(self.__b__ > 0):\n",
    "            if(self.__a__ == 0):\n",
    "                return str(self.__b__)+\"i\"\n",
    "            return str(self.__a__)+\" + \"+str(self.__b__)+\"i\"\n",
    "        elif(self.__b__ < 0):\n",
    "            if(self.__a__ == 0):\n",
    "                return str(self.__b__)+\"i\"\n",
    "            return str(self.__a__)+\" - \"+str(abs(self.__b__))+\"i\" \n",
    "        else:\n",
    "            return str(self.__a__)\n",
    "    \n",
    "    #so phuc lien hop\n",
    "    def conjugate(self):\n",
    "        return Complex(self.__a__, -self.__b__)\n",
    "    \n",
    "    #modun\n",
    "    def modun(self):\n",
    "        return math.sqrt(self.__a__ * self.__a__ + self.__b__ * self.__b__)\n",
    "    \n",
    "    #complex with complex    \n",
    "    def __add__(self, c):\n",
    "        return Complex(self.__a__+c.__a__, self.__b__+c.__b__)\n",
    "    def __sub__(self, c):\n",
    "        return Complex(self.__a__-c.__a__, self.__b__-c.__b__)\n",
    "    def __mul__(self, c):\n",
    "        return Complex(self.__a__ * c.__a__ - self.__b__ * c.__b__,self.__a__ * c.__b__ - self.__b__ * c.__a__)\n",
    "    def __truediv__(self, c):\n",
    "        a = (self.__a__ * c.__a__ + self.__b__ * c.__b__)/(c.__a__ *c.__a__ + c.__b__* c.__b__ )\n",
    "        b = (self.__a__ * c.__b__ - self.__b__ * c.__a__)/(c.__a__ *c.__a__ + c.__b__* c.__b__ )\n",
    "        return Complex(a, -b)\n",
    "    def __eq__(self, c):\n",
    "        return self.__a__ == c.__a__ & self.__b__ == c.__b__\n",
    "    \"\"\"                    \n",
    "    #complex with number\n",
    "    def __add__(self, i):\n",
    "        return Complex(self.__a__+i, self.__b__)\n",
    "    def __sub__(self, i):\n",
    "        return Complex(self.__a__-i, self.__b__)\n",
    "    def __mul__(self, i):\n",
    "        return Complex(self.__a__*i , self.__b__*i)\n",
    "    def __truediv__(self, i):\n",
    "        return self*(1/i)\n",
    "    \"\"\""
   ]
  },
  {
   "cell_type": "code",
   "execution_count": 11,
   "metadata": {},
   "outputs": [
    {
     "name": "stdout",
     "output_type": "stream",
     "text": [
      "4 - 4i\n",
      "1 + 1i\n",
      "4 + 4i\n",
      "5.656854249492381\n",
      "5 - 3i\n",
      "3 - 5i\n",
      "8 + 8i\n",
      "-4.0i\n",
      "False\n"
     ]
    }
   ],
   "source": [
    "u = Complex(4,-4)\n",
    "v = Complex(1, 1)\n",
    "\n",
    "print(u)\n",
    "print(v)\n",
    "print(u.conjugate())\n",
    "print(u.modun())\n",
    "print(u+v)\n",
    "print(u-v)\n",
    "print(u*v)\n",
    "print(u/v)\n",
    "print(u == v)\n"
   ]
  }
 ],
 "metadata": {
  "kernelspec": {
   "display_name": "Python 3",
   "language": "python",
   "name": "python3"
  },
  "language_info": {
   "codemirror_mode": {
    "name": "ipython",
    "version": 3
   },
   "file_extension": ".py",
   "mimetype": "text/x-python",
   "name": "python",
   "nbconvert_exporter": "python",
   "pygments_lexer": "ipython3",
   "version": "3.12.4"
  }
 },
 "nbformat": 4,
 "nbformat_minor": 2
}
