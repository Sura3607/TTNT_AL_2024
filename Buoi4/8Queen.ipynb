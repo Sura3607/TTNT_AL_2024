{
 "cells": [
  {
   "cell_type": "code",
   "execution_count": 1,
   "metadata": {},
   "outputs": [],
   "source": [
    "from simpleai.search import CspProblem\n",
    "\n",
    "# Biến đại diện cho các hàng của bàn cờ\n",
    "variables = ('Q1', 'Q2', 'Q3', 'Q4', 'Q5', 'Q6', 'Q7', 'Q8')\n",
    "\n",
    "domains = {\n",
    "    'Q1': [1, 2, 3, 4, 5, 6, 7, 8],\n",
    "    'Q2': [1, 2, 3, 4, 5, 6, 7, 8],\n",
    "    'Q3': [1, 2, 3, 4, 5, 6, 7, 8],\n",
    "    'Q4': [1, 2, 3, 4, 5, 6, 7, 8],\n",
    "    'Q5': [1, 2, 3, 4, 5, 6, 7, 8],\n",
    "    'Q6': [1, 2, 3, 4, 5, 6, 7, 8],\n",
    "    'Q7': [1, 2, 3, 4, 5, 6, 7, 8],\n",
    "    'Q8': [1, 2, 3, 4, 5, 6, 7, 8],\n",
    "}\n",
    "\n",
    "def const_different(variables, values):\n",
    "    return len(values) == len(set(values))\n",
    "\n",
    "def const_not_on_same_diagonal(variables, values):\n",
    "    for i in range(len(variables)):\n",
    "        for j in range(i + 1, len(variables)):\n",
    "            if abs(values[i] - values[j]) == abs(i - j):\n",
    "                return False\n",
    "    return True\n",
    "\n",
    "constraints = [\n",
    "    (variables, const_different), \n",
    "    (variables, const_not_on_same_diagonal), \n",
    "]\n",
    "\n",
    "problem = CspProblem(variables, domains, constraints)"
   ]
  },
  {
   "cell_type": "code",
   "execution_count": 2,
   "metadata": {},
   "outputs": [
    {
     "name": "stdout",
     "output_type": "stream",
     "text": [
      "{'Q1': 1, 'Q2': 5, 'Q3': 8, 'Q4': 6, 'Q5': 3, 'Q6': 7, 'Q7': 2, 'Q8': 4}\n",
      "[1, 0, 0, 0, 0, 0, 0, 0]\n",
      "[0, 0, 0, 0, 1, 0, 0, 0]\n",
      "[0, 0, 0, 0, 0, 0, 0, 1]\n",
      "[0, 0, 0, 0, 0, 1, 0, 0]\n",
      "[0, 0, 1, 0, 0, 0, 0, 0]\n",
      "[0, 0, 0, 0, 0, 0, 1, 0]\n",
      "[0, 1, 0, 0, 0, 0, 0, 0]\n",
      "[0, 0, 0, 1, 0, 0, 0, 0]\n"
     ]
    }
   ],
   "source": [
    "from simpleai.search import backtrack\n",
    "result = backtrack(problem)\n",
    "print(result)\n",
    "\n",
    "board = [[0 for _ in range(8)] for _ in range(8)]\n",
    "for row in range(8):\n",
    "    column = result[f'Q{row + 1}'] - 1  \n",
    "    board[row][column] = 1\n",
    "for row in board:\n",
    "    print(row)"
   ]
  }
 ],
 "metadata": {
  "kernelspec": {
   "display_name": "Python 3",
   "language": "python",
   "name": "python3"
  },
  "language_info": {
   "codemirror_mode": {
    "name": "ipython",
    "version": 3
   },
   "file_extension": ".py",
   "mimetype": "text/x-python",
   "name": "python",
   "nbconvert_exporter": "python",
   "pygments_lexer": "ipython3",
   "version": "3.12.4"
  }
 },
 "nbformat": 4,
 "nbformat_minor": 2
}
