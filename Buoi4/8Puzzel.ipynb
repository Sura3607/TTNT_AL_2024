{
 "cells": [
  {
   "cell_type": "code",
   "execution_count": 1,
   "metadata": {},
   "outputs": [
    {
     "ename": "",
     "evalue": "",
     "output_type": "error",
     "traceback": [
      "\u001b[1;31mThe Kernel crashed while executing code in the current cell or a previous cell. \n",
      "\u001b[1;31mPlease review the code in the cell(s) to identify a possible cause of the failure. \n",
      "\u001b[1;31mClick <a href='https://aka.ms/vscodeJupyterKernelCrash'>here</a> for more info. \n",
      "\u001b[1;31mView Jupyter <a href='command:jupyter.viewOutput'>log</a> for further details."
     ]
    }
   ],
   "source": [
    "from simpleai.search import CspProblem\n",
    "\n",
    "variables = ('A1', 'A2', 'A3', 'B1', 'B2', 'B3', 'C1', 'C2', 'C3')\n",
    "\n",
    "domains = {\n",
    "    'A1': [0, 1, 2, 3, 4, 5, 6, 7, 8],\n",
    "    'A2': [0, 1, 2, 3, 4, 5, 6, 7, 8],\n",
    "    'A3': [0, 1, 2, 3, 4, 5, 6, 7, 8],\n",
    "    'B1': [0, 1, 2, 3, 4, 5, 6, 7, 8],\n",
    "    'B2': [0, 1, 2, 3, 4, 5, 6, 7, 8],\n",
    "    'B3': [0, 1, 2, 3, 4, 5, 6, 7, 8],\n",
    "    'C1': [0, 1, 2, 3, 4, 5, 6, 7, 8],\n",
    "    'C2': [0, 1, 2, 3, 4, 5, 6, 7, 8],\n",
    "    'C3': [0, 1, 2, 3, 4, 5, 6, 7, 8],\n",
    "}\n",
    "\n",
    "GOAL = {\n",
    "    'A1': 1, 'A2': 2, 'A3': 3,\n",
    "    'B1': 4, 'B2': 5, 'B3': 6,\n",
    "    'C1': 7, 'C2': 8, 'C3': 0\n",
    "}\n",
    "\n",
    "def const_different(variables, values):\n",
    "    return len(values) == len(set(values))\n",
    "\n",
    "def const_goal_state(variables, values):\n",
    "    for variable, value in zip(variables, values):\n",
    "        if GOAL[variable] != value:\n",
    "            return False\n",
    "    return True\n",
    "\n",
    "constraints = [\n",
    "    (('A1', 'A2', 'A3', 'B1', 'B2', 'B3', 'C1', 'C2', 'C3'), const_different),  \n",
    "    (('A1', 'A2', 'A3', 'B1', 'B2', 'B3', 'C1', 'C2', 'C3'), const_goal_state), \n",
    "]\n",
    "\n",
    "problem = CspProblem(variables, domains, constraints)\n"
   ]
  },
  {
   "cell_type": "code",
   "execution_count": 7,
   "metadata": {},
   "outputs": [
    {
     "ename": "KeyboardInterrupt",
     "evalue": "",
     "output_type": "error",
     "traceback": [
      "\u001b[1;31m---------------------------------------------------------------------------\u001b[0m",
      "\u001b[1;31mKeyboardInterrupt\u001b[0m                         Traceback (most recent call last)",
      "Cell \u001b[1;32mIn[7], line 2\u001b[0m\n\u001b[0;32m      1\u001b[0m \u001b[38;5;28;01mfrom\u001b[39;00m \u001b[38;5;21;01msimpleai\u001b[39;00m\u001b[38;5;21;01m.\u001b[39;00m\u001b[38;5;21;01msearch\u001b[39;00m \u001b[38;5;28;01mimport\u001b[39;00m backtrack\n\u001b[1;32m----> 2\u001b[0m result \u001b[38;5;241m=\u001b[39m \u001b[43mbacktrack\u001b[49m\u001b[43m(\u001b[49m\u001b[43mproblem\u001b[49m\u001b[43m)\u001b[49m\n\u001b[0;32m      3\u001b[0m \u001b[38;5;28mprint\u001b[39m(result)\n",
      "File \u001b[1;32mc:\\Users\\ASUS\\AppData\\Local\\Programs\\Python\\Python312\\Lib\\site-packages\\simpleai\\search\\csp.py:36\u001b[0m, in \u001b[0;36mbacktrack\u001b[1;34m(problem, variable_heuristic, value_heuristic, inference)\u001b[0m\n\u001b[0;32m     34\u001b[0m \u001b[38;5;28;01melse\u001b[39;00m:\n\u001b[0;32m     35\u001b[0m     values_sorter \u001b[38;5;241m=\u001b[39m _basic_values_sorter\n\u001b[1;32m---> 36\u001b[0m \u001b[38;5;28;01mreturn\u001b[39;00m \u001b[43m_backtracking\u001b[49m\u001b[43m(\u001b[49m\u001b[43mproblem\u001b[49m\u001b[43m,\u001b[49m\n\u001b[0;32m     37\u001b[0m \u001b[43m                     \u001b[49m\u001b[43massignment\u001b[49m\u001b[43m,\u001b[49m\n\u001b[0;32m     38\u001b[0m \u001b[43m                     \u001b[49m\u001b[43mdomains\u001b[49m\u001b[43m,\u001b[49m\n\u001b[0;32m     39\u001b[0m \u001b[43m                     \u001b[49m\u001b[43mvariable_chooser\u001b[49m\u001b[43m,\u001b[49m\n\u001b[0;32m     40\u001b[0m \u001b[43m                     \u001b[49m\u001b[43mvalues_sorter\u001b[49m\u001b[43m,\u001b[49m\n\u001b[0;32m     41\u001b[0m \u001b[43m                     \u001b[49m\u001b[43minference\u001b[49m\u001b[38;5;241;43m=\u001b[39;49m\u001b[43minference\u001b[49m\u001b[43m)\u001b[49m\n",
      "File \u001b[1;32mc:\\Users\\ASUS\\AppData\\Local\\Programs\\Python\\Python312\\Lib\\site-packages\\simpleai\\search\\csp.py:146\u001b[0m, in \u001b[0;36m_backtracking\u001b[1;34m(problem, assignment, domains, variable_chooser, values_sorter, inference)\u001b[0m\n\u001b[0;32m    143\u001b[0m new_domains[variable] \u001b[38;5;241m=\u001b[39m [value]\n\u001b[0;32m    145\u001b[0m \u001b[38;5;28;01mif\u001b[39;00m \u001b[38;5;129;01mnot\u001b[39;00m inference \u001b[38;5;129;01mor\u001b[39;00m arc_consistency_3(new_domains, problem\u001b[38;5;241m.\u001b[39mconstraints):\n\u001b[1;32m--> 146\u001b[0m     result \u001b[38;5;241m=\u001b[39m \u001b[43m_backtracking\u001b[49m\u001b[43m(\u001b[49m\u001b[43mproblem\u001b[49m\u001b[43m,\u001b[49m\n\u001b[0;32m    147\u001b[0m \u001b[43m                           \u001b[49m\u001b[43mnew_assignment\u001b[49m\u001b[43m,\u001b[49m\n\u001b[0;32m    148\u001b[0m \u001b[43m                           \u001b[49m\u001b[43mnew_domains\u001b[49m\u001b[43m,\u001b[49m\n\u001b[0;32m    149\u001b[0m \u001b[43m                           \u001b[49m\u001b[43mvariable_chooser\u001b[49m\u001b[43m,\u001b[49m\n\u001b[0;32m    150\u001b[0m \u001b[43m                           \u001b[49m\u001b[43mvalues_sorter\u001b[49m\u001b[43m,\u001b[49m\n\u001b[0;32m    151\u001b[0m \u001b[43m                           \u001b[49m\u001b[43minference\u001b[49m\u001b[38;5;241;43m=\u001b[39;49m\u001b[43minference\u001b[49m\u001b[43m)\u001b[49m\n\u001b[0;32m    152\u001b[0m     \u001b[38;5;28;01mif\u001b[39;00m result:\n\u001b[0;32m    153\u001b[0m         \u001b[38;5;28;01mreturn\u001b[39;00m result\n",
      "File \u001b[1;32mc:\\Users\\ASUS\\AppData\\Local\\Programs\\Python\\Python312\\Lib\\site-packages\\simpleai\\search\\csp.py:146\u001b[0m, in \u001b[0;36m_backtracking\u001b[1;34m(problem, assignment, domains, variable_chooser, values_sorter, inference)\u001b[0m\n\u001b[0;32m    143\u001b[0m new_domains[variable] \u001b[38;5;241m=\u001b[39m [value]\n\u001b[0;32m    145\u001b[0m \u001b[38;5;28;01mif\u001b[39;00m \u001b[38;5;129;01mnot\u001b[39;00m inference \u001b[38;5;129;01mor\u001b[39;00m arc_consistency_3(new_domains, problem\u001b[38;5;241m.\u001b[39mconstraints):\n\u001b[1;32m--> 146\u001b[0m     result \u001b[38;5;241m=\u001b[39m \u001b[43m_backtracking\u001b[49m\u001b[43m(\u001b[49m\u001b[43mproblem\u001b[49m\u001b[43m,\u001b[49m\n\u001b[0;32m    147\u001b[0m \u001b[43m                           \u001b[49m\u001b[43mnew_assignment\u001b[49m\u001b[43m,\u001b[49m\n\u001b[0;32m    148\u001b[0m \u001b[43m                           \u001b[49m\u001b[43mnew_domains\u001b[49m\u001b[43m,\u001b[49m\n\u001b[0;32m    149\u001b[0m \u001b[43m                           \u001b[49m\u001b[43mvariable_chooser\u001b[49m\u001b[43m,\u001b[49m\n\u001b[0;32m    150\u001b[0m \u001b[43m                           \u001b[49m\u001b[43mvalues_sorter\u001b[49m\u001b[43m,\u001b[49m\n\u001b[0;32m    151\u001b[0m \u001b[43m                           \u001b[49m\u001b[43minference\u001b[49m\u001b[38;5;241;43m=\u001b[39;49m\u001b[43minference\u001b[49m\u001b[43m)\u001b[49m\n\u001b[0;32m    152\u001b[0m     \u001b[38;5;28;01mif\u001b[39;00m result:\n\u001b[0;32m    153\u001b[0m         \u001b[38;5;28;01mreturn\u001b[39;00m result\n",
      "    \u001b[1;31m[... skipping similar frames: _backtracking at line 146 (5 times)]\u001b[0m\n",
      "File \u001b[1;32mc:\\Users\\ASUS\\AppData\\Local\\Programs\\Python\\Python312\\Lib\\site-packages\\simpleai\\search\\csp.py:146\u001b[0m, in \u001b[0;36m_backtracking\u001b[1;34m(problem, assignment, domains, variable_chooser, values_sorter, inference)\u001b[0m\n\u001b[0;32m    143\u001b[0m new_domains[variable] \u001b[38;5;241m=\u001b[39m [value]\n\u001b[0;32m    145\u001b[0m \u001b[38;5;28;01mif\u001b[39;00m \u001b[38;5;129;01mnot\u001b[39;00m inference \u001b[38;5;129;01mor\u001b[39;00m arc_consistency_3(new_domains, problem\u001b[38;5;241m.\u001b[39mconstraints):\n\u001b[1;32m--> 146\u001b[0m     result \u001b[38;5;241m=\u001b[39m \u001b[43m_backtracking\u001b[49m\u001b[43m(\u001b[49m\u001b[43mproblem\u001b[49m\u001b[43m,\u001b[49m\n\u001b[0;32m    147\u001b[0m \u001b[43m                           \u001b[49m\u001b[43mnew_assignment\u001b[49m\u001b[43m,\u001b[49m\n\u001b[0;32m    148\u001b[0m \u001b[43m                           \u001b[49m\u001b[43mnew_domains\u001b[49m\u001b[43m,\u001b[49m\n\u001b[0;32m    149\u001b[0m \u001b[43m                           \u001b[49m\u001b[43mvariable_chooser\u001b[49m\u001b[43m,\u001b[49m\n\u001b[0;32m    150\u001b[0m \u001b[43m                           \u001b[49m\u001b[43mvalues_sorter\u001b[49m\u001b[43m,\u001b[49m\n\u001b[0;32m    151\u001b[0m \u001b[43m                           \u001b[49m\u001b[43minference\u001b[49m\u001b[38;5;241;43m=\u001b[39;49m\u001b[43minference\u001b[49m\u001b[43m)\u001b[49m\n\u001b[0;32m    152\u001b[0m     \u001b[38;5;28;01mif\u001b[39;00m result:\n\u001b[0;32m    153\u001b[0m         \u001b[38;5;28;01mreturn\u001b[39;00m result\n",
      "File \u001b[1;32mc:\\Users\\ASUS\\AppData\\Local\\Programs\\Python\\Python312\\Lib\\site-packages\\simpleai\\search\\csp.py:141\u001b[0m, in \u001b[0;36m_backtracking\u001b[1;34m(problem, assignment, domains, variable_chooser, values_sorter, inference)\u001b[0m\n\u001b[0;32m    138\u001b[0m new_assignment \u001b[38;5;241m=\u001b[39m deepcopy(assignment)\n\u001b[0;32m    139\u001b[0m new_assignment[variable] \u001b[38;5;241m=\u001b[39m value\n\u001b[1;32m--> 141\u001b[0m \u001b[38;5;28;01mif\u001b[39;00m \u001b[38;5;129;01mnot\u001b[39;00m \u001b[43m_count_conflicts\u001b[49m\u001b[43m(\u001b[49m\u001b[43mproblem\u001b[49m\u001b[43m,\u001b[49m\u001b[43m \u001b[49m\u001b[43mnew_assignment\u001b[49m\u001b[43m)\u001b[49m:  \u001b[38;5;66;03m# TODO on aima also checks if using fc\u001b[39;00m\n\u001b[0;32m    142\u001b[0m     new_domains \u001b[38;5;241m=\u001b[39m deepcopy(domains)\n\u001b[0;32m    143\u001b[0m     new_domains[variable] \u001b[38;5;241m=\u001b[39m [value]\n",
      "File \u001b[1;32mc:\\Users\\ASUS\\AppData\\Local\\Programs\\Python\\Python312\\Lib\\site-packages\\simpleai\\search\\csp.py:71\u001b[0m, in \u001b[0;36m_count_conflicts\u001b[1;34m(problem, assignment, variable, value)\u001b[0m\n\u001b[0;32m     67\u001b[0m \u001b[38;5;28;01mdef\u001b[39;00m \u001b[38;5;21m_count_conflicts\u001b[39m(problem, assignment, variable\u001b[38;5;241m=\u001b[39m\u001b[38;5;28;01mNone\u001b[39;00m, value\u001b[38;5;241m=\u001b[39m\u001b[38;5;28;01mNone\u001b[39;00m):\n\u001b[0;32m     68\u001b[0m \u001b[38;5;250m    \u001b[39m\u001b[38;5;124;03m'''\u001b[39;00m\n\u001b[0;32m     69\u001b[0m \u001b[38;5;124;03m    Count the number of violated constraints on a given assignment.\u001b[39;00m\n\u001b[0;32m     70\u001b[0m \u001b[38;5;124;03m    '''\u001b[39;00m\n\u001b[1;32m---> 71\u001b[0m     \u001b[38;5;28;01mreturn\u001b[39;00m \u001b[38;5;28mlen\u001b[39m(\u001b[43m_find_conflicts\u001b[49m\u001b[43m(\u001b[49m\u001b[43mproblem\u001b[49m\u001b[43m,\u001b[49m\u001b[43m \u001b[49m\u001b[43massignment\u001b[49m\u001b[43m,\u001b[49m\u001b[43m \u001b[49m\u001b[43mvariable\u001b[49m\u001b[43m,\u001b[49m\u001b[43m \u001b[49m\u001b[43mvalue\u001b[49m\u001b[43m)\u001b[49m)\n",
      "File \u001b[1;32mc:\\Users\\ASUS\\AppData\\Local\\Programs\\Python\\Python312\\Lib\\site-packages\\simpleai\\search\\csp.py:93\u001b[0m, in \u001b[0;36m_find_conflicts\u001b[1;34m(problem, assignment, variable, value)\u001b[0m\n\u001b[0;32m     90\u001b[0m conflicts \u001b[38;5;241m=\u001b[39m []\n\u001b[0;32m     91\u001b[0m \u001b[38;5;28;01mfor\u001b[39;00m neighbors, constraint \u001b[38;5;129;01min\u001b[39;00m problem\u001b[38;5;241m.\u001b[39mconstraints:\n\u001b[0;32m     92\u001b[0m     \u001b[38;5;66;03m# if all the neighbors on the constraint have values, check if conflict\u001b[39;00m\n\u001b[1;32m---> 93\u001b[0m     \u001b[38;5;28;01mif\u001b[39;00m \u001b[38;5;28;43mall\u001b[39;49m\u001b[43m(\u001b[49m\u001b[43mn\u001b[49m\u001b[43m \u001b[49m\u001b[38;5;129;43;01min\u001b[39;49;00m\u001b[43m \u001b[49m\u001b[43massignment\u001b[49m\u001b[43m \u001b[49m\u001b[38;5;28;43;01mfor\u001b[39;49;00m\u001b[43m \u001b[49m\u001b[43mn\u001b[49m\u001b[43m \u001b[49m\u001b[38;5;129;43;01min\u001b[39;49;00m\u001b[43m \u001b[49m\u001b[43mneighbors\u001b[49m\u001b[43m)\u001b[49m:\n\u001b[0;32m     94\u001b[0m         \u001b[38;5;28;01mif\u001b[39;00m \u001b[38;5;129;01mnot\u001b[39;00m _call_constraint(assignment, neighbors, constraint):\n\u001b[0;32m     95\u001b[0m             conflicts\u001b[38;5;241m.\u001b[39mappend((neighbors, constraint))\n",
      "File \u001b[1;32mc:\\Users\\ASUS\\AppData\\Local\\Programs\\Python\\Python312\\Lib\\site-packages\\simpleai\\search\\csp.py:93\u001b[0m, in \u001b[0;36m<genexpr>\u001b[1;34m(.0)\u001b[0m\n\u001b[0;32m     90\u001b[0m conflicts \u001b[38;5;241m=\u001b[39m []\n\u001b[0;32m     91\u001b[0m \u001b[38;5;28;01mfor\u001b[39;00m neighbors, constraint \u001b[38;5;129;01min\u001b[39;00m problem\u001b[38;5;241m.\u001b[39mconstraints:\n\u001b[0;32m     92\u001b[0m     \u001b[38;5;66;03m# if all the neighbors on the constraint have values, check if conflict\u001b[39;00m\n\u001b[1;32m---> 93\u001b[0m     \u001b[38;5;28;01mif\u001b[39;00m \u001b[38;5;28mall\u001b[39m(n \u001b[38;5;129;01min\u001b[39;00m assignment \u001b[38;5;28;01mfor\u001b[39;00m n \u001b[38;5;129;01min\u001b[39;00m neighbors):\n\u001b[0;32m     94\u001b[0m         \u001b[38;5;28;01mif\u001b[39;00m \u001b[38;5;129;01mnot\u001b[39;00m _call_constraint(assignment, neighbors, constraint):\n\u001b[0;32m     95\u001b[0m             conflicts\u001b[38;5;241m.\u001b[39mappend((neighbors, constraint))\n",
      "\u001b[1;31mKeyboardInterrupt\u001b[0m: "
     ]
    }
   ],
   "source": [
    "from simpleai.search import backtrack\n",
    "result = backtrack(problem)\n",
    "print(result)"
   ]
  }
 ],
 "metadata": {
  "kernelspec": {
   "display_name": "Python 3",
   "language": "python",
   "name": "python3"
  },
  "language_info": {
   "codemirror_mode": {
    "name": "ipython",
    "version": 3
   },
   "file_extension": ".py",
   "mimetype": "text/x-python",
   "name": "python",
   "nbconvert_exporter": "python",
   "pygments_lexer": "ipython3",
   "version": "3.12.4"
  }
 },
 "nbformat": 4,
 "nbformat_minor": 2
}
