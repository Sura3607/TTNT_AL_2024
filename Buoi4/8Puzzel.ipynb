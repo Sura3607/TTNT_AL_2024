{
 "cells": [
  {
   "cell_type": "code",
   "execution_count": 1,
   "metadata": {},
   "outputs": [],
   "source": [
    "from simpleai.search import CspProblem\n",
    "\n",
    "variables = ('A1', 'A2', 'A3', 'B1', 'B2', 'B3', 'C1', 'C2', 'C3')\n",
    "\n",
    "domains = {\n",
    "    'A1': [0, 1, 2, 3, 4, 5, 6, 7, 8],\n",
    "    'A2': [0, 1, 2, 3, 4, 5, 6, 7, 8],\n",
    "    'A3': [0, 1, 2, 3, 4, 5, 6, 7, 8],\n",
    "    'B1': [0, 1, 2, 3, 4, 5, 6, 7, 8],\n",
    "    'B2': [0, 1, 2, 3, 4, 5, 6, 7, 8],\n",
    "    'B3': [0, 1, 2, 3, 4, 5, 6, 7, 8],\n",
    "    'C1': [0, 1, 2, 3, 4, 5, 6, 7, 8],\n",
    "    'C2': [0, 1, 2, 3, 4, 5, 6, 7, 8],\n",
    "    'C3': [0, 1, 2, 3, 4, 5, 6, 7, 8],\n",
    "}\n",
    "\n",
    "GOAL = {\n",
    "    'A1': 1, 'A2': 2, 'A3': 3,\n",
    "    'B1': 8, 'B2': 0, 'B3': 4,\n",
    "    'C1': 7, 'C2': 6, 'C3': 5\n",
    "}\n",
    "\n",
    "def const_different(variables, values):\n",
    "    return len(values) == len(set(values))\n",
    "\n",
    "def const_goal_state(variables, values):\n",
    "    for variable, value in zip(variables, values):\n",
    "        if GOAL[variable] != value:\n",
    "            return False\n",
    "    return True\n",
    "\n",
    "constraints = [\n",
    "    (('A1', 'A2', 'A3', 'B1', 'B2', 'B3', 'C1', 'C2', 'C3'), const_different),  \n",
    "    (('A1', 'A2', 'A3', 'B1', 'B2', 'B3', 'C1', 'C2', 'C3'), const_goal_state), \n",
    "]\n",
    "\n",
    "problem = CspProblem(variables, domains, constraints)\n"
   ]
  },
  {
   "cell_type": "code",
   "execution_count": 2,
   "metadata": {},
   "outputs": [
    {
     "ename": "KeyboardInterrupt",
     "evalue": "",
     "output_type": "error",
     "traceback": [
      "\u001b[1;31m---------------------------------------------------------------------------\u001b[0m",
      "\u001b[1;31mKeyboardInterrupt\u001b[0m                         Traceback (most recent call last)",
      "Cell \u001b[1;32mIn[2], line 2\u001b[0m\n\u001b[0;32m      1\u001b[0m \u001b[38;5;28;01mfrom\u001b[39;00m \u001b[38;5;21;01msimpleai\u001b[39;00m\u001b[38;5;21;01m.\u001b[39;00m\u001b[38;5;21;01msearch\u001b[39;00m \u001b[38;5;28;01mimport\u001b[39;00m backtrack\n\u001b[1;32m----> 2\u001b[0m result \u001b[38;5;241m=\u001b[39m \u001b[43mbacktrack\u001b[49m\u001b[43m(\u001b[49m\u001b[43mproblem\u001b[49m\u001b[43m)\u001b[49m\n\u001b[0;32m      3\u001b[0m \u001b[38;5;28mprint\u001b[39m(result)\n",
      "File \u001b[1;32mc:\\Users\\ASUS\\AppData\\Local\\Programs\\Python\\Python312\\Lib\\site-packages\\simpleai\\search\\csp.py:36\u001b[0m, in \u001b[0;36mbacktrack\u001b[1;34m(problem, variable_heuristic, value_heuristic, inference)\u001b[0m\n\u001b[0;32m     34\u001b[0m \u001b[38;5;28;01melse\u001b[39;00m:\n\u001b[0;32m     35\u001b[0m     values_sorter \u001b[38;5;241m=\u001b[39m _basic_values_sorter\n\u001b[1;32m---> 36\u001b[0m \u001b[38;5;28;01mreturn\u001b[39;00m \u001b[43m_backtracking\u001b[49m\u001b[43m(\u001b[49m\u001b[43mproblem\u001b[49m\u001b[43m,\u001b[49m\n\u001b[0;32m     37\u001b[0m \u001b[43m                     \u001b[49m\u001b[43massignment\u001b[49m\u001b[43m,\u001b[49m\n\u001b[0;32m     38\u001b[0m \u001b[43m                     \u001b[49m\u001b[43mdomains\u001b[49m\u001b[43m,\u001b[49m\n\u001b[0;32m     39\u001b[0m \u001b[43m                     \u001b[49m\u001b[43mvariable_chooser\u001b[49m\u001b[43m,\u001b[49m\n\u001b[0;32m     40\u001b[0m \u001b[43m                     \u001b[49m\u001b[43mvalues_sorter\u001b[49m\u001b[43m,\u001b[49m\n\u001b[0;32m     41\u001b[0m \u001b[43m                     \u001b[49m\u001b[43minference\u001b[49m\u001b[38;5;241;43m=\u001b[39;49m\u001b[43minference\u001b[49m\u001b[43m)\u001b[49m\n",
      "File \u001b[1;32mc:\\Users\\ASUS\\AppData\\Local\\Programs\\Python\\Python312\\Lib\\site-packages\\simpleai\\search\\csp.py:146\u001b[0m, in \u001b[0;36m_backtracking\u001b[1;34m(problem, assignment, domains, variable_chooser, values_sorter, inference)\u001b[0m\n\u001b[0;32m    143\u001b[0m new_domains[variable] \u001b[38;5;241m=\u001b[39m [value]\n\u001b[0;32m    145\u001b[0m \u001b[38;5;28;01mif\u001b[39;00m \u001b[38;5;129;01mnot\u001b[39;00m inference \u001b[38;5;129;01mor\u001b[39;00m arc_consistency_3(new_domains, problem\u001b[38;5;241m.\u001b[39mconstraints):\n\u001b[1;32m--> 146\u001b[0m     result \u001b[38;5;241m=\u001b[39m \u001b[43m_backtracking\u001b[49m\u001b[43m(\u001b[49m\u001b[43mproblem\u001b[49m\u001b[43m,\u001b[49m\n\u001b[0;32m    147\u001b[0m \u001b[43m                           \u001b[49m\u001b[43mnew_assignment\u001b[49m\u001b[43m,\u001b[49m\n\u001b[0;32m    148\u001b[0m \u001b[43m                           \u001b[49m\u001b[43mnew_domains\u001b[49m\u001b[43m,\u001b[49m\n\u001b[0;32m    149\u001b[0m \u001b[43m                           \u001b[49m\u001b[43mvariable_chooser\u001b[49m\u001b[43m,\u001b[49m\n\u001b[0;32m    150\u001b[0m \u001b[43m                           \u001b[49m\u001b[43mvalues_sorter\u001b[49m\u001b[43m,\u001b[49m\n\u001b[0;32m    151\u001b[0m \u001b[43m                           \u001b[49m\u001b[43minference\u001b[49m\u001b[38;5;241;43m=\u001b[39;49m\u001b[43minference\u001b[49m\u001b[43m)\u001b[49m\n\u001b[0;32m    152\u001b[0m     \u001b[38;5;28;01mif\u001b[39;00m result:\n\u001b[0;32m    153\u001b[0m         \u001b[38;5;28;01mreturn\u001b[39;00m result\n",
      "File \u001b[1;32mc:\\Users\\ASUS\\AppData\\Local\\Programs\\Python\\Python312\\Lib\\site-packages\\simpleai\\search\\csp.py:146\u001b[0m, in \u001b[0;36m_backtracking\u001b[1;34m(problem, assignment, domains, variable_chooser, values_sorter, inference)\u001b[0m\n\u001b[0;32m    143\u001b[0m new_domains[variable] \u001b[38;5;241m=\u001b[39m [value]\n\u001b[0;32m    145\u001b[0m \u001b[38;5;28;01mif\u001b[39;00m \u001b[38;5;129;01mnot\u001b[39;00m inference \u001b[38;5;129;01mor\u001b[39;00m arc_consistency_3(new_domains, problem\u001b[38;5;241m.\u001b[39mconstraints):\n\u001b[1;32m--> 146\u001b[0m     result \u001b[38;5;241m=\u001b[39m \u001b[43m_backtracking\u001b[49m\u001b[43m(\u001b[49m\u001b[43mproblem\u001b[49m\u001b[43m,\u001b[49m\n\u001b[0;32m    147\u001b[0m \u001b[43m                           \u001b[49m\u001b[43mnew_assignment\u001b[49m\u001b[43m,\u001b[49m\n\u001b[0;32m    148\u001b[0m \u001b[43m                           \u001b[49m\u001b[43mnew_domains\u001b[49m\u001b[43m,\u001b[49m\n\u001b[0;32m    149\u001b[0m \u001b[43m                           \u001b[49m\u001b[43mvariable_chooser\u001b[49m\u001b[43m,\u001b[49m\n\u001b[0;32m    150\u001b[0m \u001b[43m                           \u001b[49m\u001b[43mvalues_sorter\u001b[49m\u001b[43m,\u001b[49m\n\u001b[0;32m    151\u001b[0m \u001b[43m                           \u001b[49m\u001b[43minference\u001b[49m\u001b[38;5;241;43m=\u001b[39;49m\u001b[43minference\u001b[49m\u001b[43m)\u001b[49m\n\u001b[0;32m    152\u001b[0m     \u001b[38;5;28;01mif\u001b[39;00m result:\n\u001b[0;32m    153\u001b[0m         \u001b[38;5;28;01mreturn\u001b[39;00m result\n",
      "    \u001b[1;31m[... skipping similar frames: _backtracking at line 146 (4 times)]\u001b[0m\n",
      "File \u001b[1;32mc:\\Users\\ASUS\\AppData\\Local\\Programs\\Python\\Python312\\Lib\\site-packages\\simpleai\\search\\csp.py:146\u001b[0m, in \u001b[0;36m_backtracking\u001b[1;34m(problem, assignment, domains, variable_chooser, values_sorter, inference)\u001b[0m\n\u001b[0;32m    143\u001b[0m new_domains[variable] \u001b[38;5;241m=\u001b[39m [value]\n\u001b[0;32m    145\u001b[0m \u001b[38;5;28;01mif\u001b[39;00m \u001b[38;5;129;01mnot\u001b[39;00m inference \u001b[38;5;129;01mor\u001b[39;00m arc_consistency_3(new_domains, problem\u001b[38;5;241m.\u001b[39mconstraints):\n\u001b[1;32m--> 146\u001b[0m     result \u001b[38;5;241m=\u001b[39m \u001b[43m_backtracking\u001b[49m\u001b[43m(\u001b[49m\u001b[43mproblem\u001b[49m\u001b[43m,\u001b[49m\n\u001b[0;32m    147\u001b[0m \u001b[43m                           \u001b[49m\u001b[43mnew_assignment\u001b[49m\u001b[43m,\u001b[49m\n\u001b[0;32m    148\u001b[0m \u001b[43m                           \u001b[49m\u001b[43mnew_domains\u001b[49m\u001b[43m,\u001b[49m\n\u001b[0;32m    149\u001b[0m \u001b[43m                           \u001b[49m\u001b[43mvariable_chooser\u001b[49m\u001b[43m,\u001b[49m\n\u001b[0;32m    150\u001b[0m \u001b[43m                           \u001b[49m\u001b[43mvalues_sorter\u001b[49m\u001b[43m,\u001b[49m\n\u001b[0;32m    151\u001b[0m \u001b[43m                           \u001b[49m\u001b[43minference\u001b[49m\u001b[38;5;241;43m=\u001b[39;49m\u001b[43minference\u001b[49m\u001b[43m)\u001b[49m\n\u001b[0;32m    152\u001b[0m     \u001b[38;5;28;01mif\u001b[39;00m result:\n\u001b[0;32m    153\u001b[0m         \u001b[38;5;28;01mreturn\u001b[39;00m result\n",
      "File \u001b[1;32mc:\\Users\\ASUS\\AppData\\Local\\Programs\\Python\\Python312\\Lib\\site-packages\\simpleai\\search\\csp.py:142\u001b[0m, in \u001b[0;36m_backtracking\u001b[1;34m(problem, assignment, domains, variable_chooser, values_sorter, inference)\u001b[0m\n\u001b[0;32m    139\u001b[0m new_assignment[variable] \u001b[38;5;241m=\u001b[39m value\n\u001b[0;32m    141\u001b[0m \u001b[38;5;28;01mif\u001b[39;00m \u001b[38;5;129;01mnot\u001b[39;00m _count_conflicts(problem, new_assignment):  \u001b[38;5;66;03m# TODO on aima also checks if using fc\u001b[39;00m\n\u001b[1;32m--> 142\u001b[0m     new_domains \u001b[38;5;241m=\u001b[39m \u001b[43mdeepcopy\u001b[49m\u001b[43m(\u001b[49m\u001b[43mdomains\u001b[49m\u001b[43m)\u001b[49m\n\u001b[0;32m    143\u001b[0m     new_domains[variable] \u001b[38;5;241m=\u001b[39m [value]\n\u001b[0;32m    145\u001b[0m     \u001b[38;5;28;01mif\u001b[39;00m \u001b[38;5;129;01mnot\u001b[39;00m inference \u001b[38;5;129;01mor\u001b[39;00m arc_consistency_3(new_domains, problem\u001b[38;5;241m.\u001b[39mconstraints):\n",
      "File \u001b[1;32mc:\\Users\\ASUS\\AppData\\Local\\Programs\\Python\\Python312\\Lib\\copy.py:167\u001b[0m, in \u001b[0;36mdeepcopy\u001b[1;34m(x, memo, _nil)\u001b[0m\n\u001b[0;32m    165\u001b[0m \u001b[38;5;28;01mif\u001b[39;00m y \u001b[38;5;129;01mis\u001b[39;00m \u001b[38;5;129;01mnot\u001b[39;00m x:\n\u001b[0;32m    166\u001b[0m     memo[d] \u001b[38;5;241m=\u001b[39m y\n\u001b[1;32m--> 167\u001b[0m     \u001b[43m_keep_alive\u001b[49m\u001b[43m(\u001b[49m\u001b[43mx\u001b[49m\u001b[43m,\u001b[49m\u001b[43m \u001b[49m\u001b[43mmemo\u001b[49m\u001b[43m)\u001b[49m \u001b[38;5;66;03m# Make sure x lives at least as long as d\u001b[39;00m\n\u001b[0;32m    168\u001b[0m \u001b[38;5;28;01mreturn\u001b[39;00m y\n",
      "File \u001b[1;32mc:\\Users\\ASUS\\AppData\\Local\\Programs\\Python\\Python312\\Lib\\copy.py:242\u001b[0m, in \u001b[0;36m_keep_alive\u001b[1;34m(x, memo)\u001b[0m\n\u001b[0;32m    232\u001b[0m \u001b[38;5;250m\u001b[39m\u001b[38;5;124;03m\"\"\"Keeps a reference to the object x in the memo.\u001b[39;00m\n\u001b[0;32m    233\u001b[0m \n\u001b[0;32m    234\u001b[0m \u001b[38;5;124;03mBecause we remember objects by their id, we have\u001b[39;00m\n\u001b[1;32m   (...)\u001b[0m\n\u001b[0;32m    239\u001b[0m \u001b[38;5;124;03mthe memo itself...\u001b[39;00m\n\u001b[0;32m    240\u001b[0m \u001b[38;5;124;03m\"\"\"\u001b[39;00m\n\u001b[0;32m    241\u001b[0m \u001b[38;5;28;01mtry\u001b[39;00m:\n\u001b[1;32m--> 242\u001b[0m     memo[\u001b[38;5;28;43mid\u001b[39;49m\u001b[43m(\u001b[49m\u001b[43mmemo\u001b[49m\u001b[43m)\u001b[49m]\u001b[38;5;241m.\u001b[39mappend(x)\n\u001b[0;32m    243\u001b[0m \u001b[38;5;28;01mexcept\u001b[39;00m \u001b[38;5;167;01mKeyError\u001b[39;00m:\n\u001b[0;32m    244\u001b[0m     \u001b[38;5;66;03m# aha, this is the first one :-)\u001b[39;00m\n\u001b[0;32m    245\u001b[0m     memo[\u001b[38;5;28mid\u001b[39m(memo)]\u001b[38;5;241m=\u001b[39m[x]\n",
      "\u001b[1;31mKeyboardInterrupt\u001b[0m: "
     ]
    }
   ],
   "source": [
    "from simpleai.search import backtrack\n",
    "result = backtrack(problem)\n",
    "print(result)"
   ]
  }
 ],
 "metadata": {
  "kernelspec": {
   "display_name": "Python 3",
   "language": "python",
   "name": "python3"
  },
  "language_info": {
   "codemirror_mode": {
    "name": "ipython",
    "version": 3
   },
   "file_extension": ".py",
   "mimetype": "text/x-python",
   "name": "python",
   "nbconvert_exporter": "python",
   "pygments_lexer": "ipython3",
   "version": "3.12.4"
  }
 },
 "nbformat": 4,
 "nbformat_minor": 2
}
